{
 "cells": [
  {
   "cell_type": "markdown",
   "metadata": {},
   "source": [
    "# Pass Map Generator\n",
    "\n",
    "### Use this module with JSON data and a player name to create pass maps easily"
   ]
  },
  {
   "cell_type": "code",
   "execution_count": 14,
   "metadata": {
    "collapsed": true
   },
   "outputs": [],
   "source": [
    "import json\n",
    "\n",
    "import pandas as pd\n",
    "import numpy as np\n",
    "import matplotlib.pyplot as plt\n",
    "from matplotlib.patches import Arc\n",
    "\n",
    "%matplotlib inline\n",
    "\n",
    "\n",
    "def passMapGenerator(jsonName, playerName, matchName):\n",
    "    \n",
    "    with open(jsonName,'r') as f:\n",
    "        data = json.load(f) #loads json in form of dictionaries \n",
    "        f.close()\n",
    "       \n",
    "    passData = []\n",
    "    eventData = []\n",
    "    \n",
    "    #Created in the order of the lists created\n",
    "    player = \"\" \n",
    "    startLocation = [] \n",
    "    endLocation = []\n",
    "    complete = True\n",
    "\n",
    "    #JSON Data is from StatsBomb open-source data, find JSON structure in Pass-Map-Trials\n",
    "\n",
    "    for i in range(0, len(data)):\n",
    "        if(\"pass\" in data[i]):\n",
    "            startLocation = data[i][\"location\"]\n",
    "            endLocation = data[i][\"pass\"][\"end_location\"]\n",
    "            player = data[i][\"player\"][\"name\"]\n",
    "            if(\"outcome\" in data[i]['pass']):\n",
    "                complete = False\n",
    "            else:\n",
    "                complete = True\n",
    "            eventData = [player, startLocation, endLocation, complete]\n",
    "            passData.append(eventData)\n",
    "            \n",
    "    #My arrays are as such - player name (0), start(x,y) (1), end(x,y) (2), complete (bool) (3\n",
    "    \n",
    "    playerPasses = []\n",
    "    \n",
    "    for i in range(0, len(passData)):\n",
    "        if(passData[i][0] == playerName):\n",
    "            playerPasses.append(passData[i])\n",
    "            \n",
    "    \n",
    "    #Create figure\n",
    "    fig=plt.figure()\n",
    "    fig.set_size_inches(7, 5)\n",
    "    ax=fig.add_subplot(1,1,1)\n",
    "\n",
    "    #Pitch Outline & Centre Line\n",
    "    plt.plot([0,0],[0,90], color=\"black\")\n",
    "    plt.plot([0,130],[90,90], color=\"black\")\n",
    "    plt.plot([130,130],[90,0], color=\"black\")\n",
    "    plt.plot([130,0],[0,0], color=\"black\")\n",
    "    plt.plot([65,65],[0,90], color=\"black\")\n",
    "\n",
    "    #Left Penalty Area\n",
    "    plt.plot([16.5,16.5],[65,25],color=\"black\")\n",
    "    plt.plot([0,16.5],[65,65],color=\"black\")\n",
    "    plt.plot([16.5,0],[25,25],color=\"black\")\n",
    "\n",
    "    #Right Penalty Area\n",
    "    plt.plot([130,113.5],[65,65],color=\"black\")\n",
    "    plt.plot([113.5,113.5],[65,25],color=\"black\")\n",
    "    plt.plot([113.5,130],[25,25],color=\"black\")\n",
    "\n",
    "    #Left 6-yard Box\n",
    "    plt.plot([0,5.5],[54,54],color=\"black\")\n",
    "    plt.plot([5.5,5.5],[54,36],color=\"black\")\n",
    "    plt.plot([5.5,0.5],[36,36],color=\"black\")\n",
    "\n",
    "    #Right 6-yard Box\n",
    "    plt.plot([130,124.5],[54,54],color=\"black\")\n",
    "    plt.plot([124.5,124.5],[54,36],color=\"black\")\n",
    "    plt.plot([124.5,130],[36,36],color=\"black\")\n",
    "\n",
    "    #Prepare Circles\n",
    "    centreCircle = plt.Circle((65,45),9.15,color=\"black\",fill=False)\n",
    "    centreSpot = plt.Circle((65,45),0.8,color=\"black\")\n",
    "    leftPenSpot = plt.Circle((11,45),0.8,color=\"black\")\n",
    "    rightPenSpot = plt.Circle((119,45),0.8,color=\"black\")\n",
    "\n",
    "    #Draw Circles\n",
    "    ax.add_patch(centreCircle)\n",
    "    ax.add_patch(centreSpot)\n",
    "    ax.add_patch(leftPenSpot)\n",
    "    ax.add_patch(rightPenSpot)\n",
    "\n",
    "    #Prepare Arcs\n",
    "    leftArc = Arc((11,45),height=18.3,width=18.3,angle=0,theta1=310,theta2=50,color=\"black\")\n",
    "    rightArc = Arc((119,45),height=18.3,width=18.3,angle=0,theta1=130,theta2=230,color=\"black\")\n",
    "\n",
    "    #Draw Arcs\n",
    "    ax.add_patch(leftArc)\n",
    "    ax.add_patch(rightArc)\n",
    "\n",
    "    #Tidy Axes\n",
    "    plt.axis('off')\n",
    "\n",
    "    #My arrays are as such - player name (0), start(x,y) (1), end(x,y) (2), complete (bool) (3)\n",
    "    \n",
    "    complete = 0\n",
    "    \n",
    "    for i in range(0, len(playerPasses)):\n",
    "        \n",
    "        if(playerPasses[i][3] == True):\n",
    "            complete += 1 # for completion percentage \n",
    "\n",
    "        xstart = int(playerPasses[i][1][0])\n",
    "        xend = int(playerPasses[i][2][0])\n",
    "        ystart = int(playerPasses[i][1][1])\n",
    "        yend = int(playerPasses[i][2][1])\n",
    "        if(playerPasses[i][3] == False):\n",
    "            plt.plot([xstart, xend], [ystart, yend], color = \"red\")\n",
    "            plt.plot(xstart, ystart, \".\", color = \"red\")\n",
    "            plt.plot(xend, yend, \"x\", color = \"red\")\n",
    "        else:\n",
    "            plt.plot([xstart, xend], [ystart, yend], color = \"green\")\n",
    "            plt.plot(xstart, ystart, \".\", color = \"green\")\n",
    "            plt.plot(xend, yend, \"x\", color = \"green\")\n",
    "\n",
    "    title = playerName + \", \" + matchName\n",
    "    ax.text(2,95, title ,color=\"black\",size=\"14\")\n",
    "    \n",
    "    # some code for pass statistics - simple completion percentage\n",
    "    stats = []\n",
    "    stats.append(complete)\n",
    "    stats.append(len(playerPasses))\n",
    "    stats.append(int(complete/len(playerPasses)*100))\n",
    "    \n",
    "    #Put this on the plot \n",
    "    percentageText = f\"{stats[0]}/{stats[1]}, {stats[2]}% \"\n",
    "    ax.text(102, 84, percentageText, color = \"black\", size = \"12\")\n",
    "    \n",
    "    plt.show()\n"
   ]
  },
  {
   "cell_type": "code",
   "execution_count": 15,
   "metadata": {},
   "outputs": [
    {
     "ename": "FileNotFoundError",
     "evalue": "[Errno 2] No such file or directory: '8658.json'",
     "output_type": "error",
     "traceback": [
      "\u001b[0;31m---------------------------------------------------------------------------\u001b[0m",
      "\u001b[0;31mFileNotFoundError\u001b[0m                         Traceback (most recent call last)",
      "\u001b[0;32m<ipython-input-15-3a084d0a628e>\u001b[0m in \u001b[0;36m<module>\u001b[0;34m()\u001b[0m\n\u001b[1;32m      2\u001b[0m \u001b[0;34m\u001b[0m\u001b[0m\n\u001b[1;32m      3\u001b[0m \u001b[0;34m\u001b[0m\u001b[0m\n\u001b[0;32m----> 4\u001b[0;31m \u001b[0mpassMapGenerator\u001b[0m\u001b[0;34m(\u001b[0m\u001b[0;34m\"8658.json\"\u001b[0m\u001b[0;34m,\u001b[0m \u001b[0;34m\"Paul Pogba\"\u001b[0m\u001b[0;34m,\u001b[0m \u001b[0;34m\"2018 World Cup Final\"\u001b[0m\u001b[0;34m)\u001b[0m\u001b[0;34m\u001b[0m\u001b[0m\n\u001b[0m",
      "\u001b[0;32m<ipython-input-14-3fb752d23721>\u001b[0m in \u001b[0;36mpassMapGenerator\u001b[0;34m(jsonName, playerName, matchName)\u001b[0m\n\u001b[1;32m     11\u001b[0m \u001b[0;32mdef\u001b[0m \u001b[0mpassMapGenerator\u001b[0m\u001b[0;34m(\u001b[0m\u001b[0mjsonName\u001b[0m\u001b[0;34m,\u001b[0m \u001b[0mplayerName\u001b[0m\u001b[0;34m,\u001b[0m \u001b[0mmatchName\u001b[0m\u001b[0;34m)\u001b[0m\u001b[0;34m:\u001b[0m\u001b[0;34m\u001b[0m\u001b[0m\n\u001b[1;32m     12\u001b[0m \u001b[0;34m\u001b[0m\u001b[0m\n\u001b[0;32m---> 13\u001b[0;31m     \u001b[0;32mwith\u001b[0m \u001b[0mopen\u001b[0m\u001b[0;34m(\u001b[0m\u001b[0mjsonName\u001b[0m\u001b[0;34m,\u001b[0m\u001b[0;34m'r'\u001b[0m\u001b[0;34m)\u001b[0m \u001b[0;32mas\u001b[0m \u001b[0mf\u001b[0m\u001b[0;34m:\u001b[0m\u001b[0;34m\u001b[0m\u001b[0m\n\u001b[0m\u001b[1;32m     14\u001b[0m         \u001b[0mdata\u001b[0m \u001b[0;34m=\u001b[0m \u001b[0mjson\u001b[0m\u001b[0;34m.\u001b[0m\u001b[0mload\u001b[0m\u001b[0;34m(\u001b[0m\u001b[0mf\u001b[0m\u001b[0;34m)\u001b[0m \u001b[0;31m#loads json in form of dictionaries\u001b[0m\u001b[0;34m\u001b[0m\u001b[0m\n\u001b[1;32m     15\u001b[0m         \u001b[0mf\u001b[0m\u001b[0;34m.\u001b[0m\u001b[0mclose\u001b[0m\u001b[0;34m(\u001b[0m\u001b[0;34m)\u001b[0m\u001b[0;34m\u001b[0m\u001b[0m\n",
      "\u001b[0;31mFileNotFoundError\u001b[0m: [Errno 2] No such file or directory: '8658.json'"
     ]
    }
   ],
   "source": [
    "# To use the generator, give the JSON name, Player Name, and the Match Name\n",
    "\n",
    "\n",
    "passMapGenerator(\"8658.json\", \"Paul Pogba\", \"2018 World Cup Final\")\n"
   ]
  },
  {
   "cell_type": "code",
   "execution_count": 13,
   "metadata": {},
   "outputs": [
    {
     "ename": "FileNotFoundError",
     "evalue": "[Errno 2] No such file or directory: '8658.json'",
     "output_type": "error",
     "traceback": [
      "\u001b[0;31m---------------------------------------------------------------------------\u001b[0m",
      "\u001b[0;31mFileNotFoundError\u001b[0m                         Traceback (most recent call last)",
      "\u001b[0;32m<ipython-input-13-0b344f59d9a3>\u001b[0m in \u001b[0;36m<module>\u001b[0;34m()\u001b[0m\n\u001b[0;32m----> 1\u001b[0;31m \u001b[0mpassMapGenerator\u001b[0m\u001b[0;34m(\u001b[0m\u001b[0;34m\"8658.json\"\u001b[0m\u001b[0;34m,\u001b[0m \u001b[0;34m\"Luka Modrić\"\u001b[0m\u001b[0;34m,\u001b[0m \u001b[0;34m\"2018 World Cup Final\"\u001b[0m\u001b[0;34m)\u001b[0m\u001b[0;34m\u001b[0m\u001b[0m\n\u001b[0m",
      "\u001b[0;32m<ipython-input-11-3fb752d23721>\u001b[0m in \u001b[0;36mpassMapGenerator\u001b[0;34m(jsonName, playerName, matchName)\u001b[0m\n\u001b[1;32m     11\u001b[0m \u001b[0;32mdef\u001b[0m \u001b[0mpassMapGenerator\u001b[0m\u001b[0;34m(\u001b[0m\u001b[0mjsonName\u001b[0m\u001b[0;34m,\u001b[0m \u001b[0mplayerName\u001b[0m\u001b[0;34m,\u001b[0m \u001b[0mmatchName\u001b[0m\u001b[0;34m)\u001b[0m\u001b[0;34m:\u001b[0m\u001b[0;34m\u001b[0m\u001b[0m\n\u001b[1;32m     12\u001b[0m \u001b[0;34m\u001b[0m\u001b[0m\n\u001b[0;32m---> 13\u001b[0;31m     \u001b[0;32mwith\u001b[0m \u001b[0mopen\u001b[0m\u001b[0;34m(\u001b[0m\u001b[0mjsonName\u001b[0m\u001b[0;34m,\u001b[0m\u001b[0;34m'r'\u001b[0m\u001b[0;34m)\u001b[0m \u001b[0;32mas\u001b[0m \u001b[0mf\u001b[0m\u001b[0;34m:\u001b[0m\u001b[0;34m\u001b[0m\u001b[0m\n\u001b[0m\u001b[1;32m     14\u001b[0m         \u001b[0mdata\u001b[0m \u001b[0;34m=\u001b[0m \u001b[0mjson\u001b[0m\u001b[0;34m.\u001b[0m\u001b[0mload\u001b[0m\u001b[0;34m(\u001b[0m\u001b[0mf\u001b[0m\u001b[0;34m)\u001b[0m \u001b[0;31m#loads json in form of dictionaries\u001b[0m\u001b[0;34m\u001b[0m\u001b[0m\n\u001b[1;32m     15\u001b[0m         \u001b[0mf\u001b[0m\u001b[0;34m.\u001b[0m\u001b[0mclose\u001b[0m\u001b[0;34m(\u001b[0m\u001b[0;34m)\u001b[0m\u001b[0;34m\u001b[0m\u001b[0m\n",
      "\u001b[0;31mFileNotFoundError\u001b[0m: [Errno 2] No such file or directory: '8658.json'"
     ]
    }
   ],
   "source": [
    "passMapGenerator(\"8658.json\", \"Luka Modrić\", \"2018 World Cup Final\")"
   ]
  },
  {
   "cell_type": "code",
   "execution_count": null,
   "metadata": {
    "collapsed": true
   },
   "outputs": [],
   "source": []
  }
 ],
 "metadata": {
  "kernelspec": {
   "display_name": "Python 3",
   "language": "python",
   "name": "python3"
  },
  "language_info": {
   "codemirror_mode": {
    "name": "ipython",
    "version": 3
   },
   "file_extension": ".py",
   "mimetype": "text/x-python",
   "name": "python",
   "nbconvert_exporter": "python",
   "pygments_lexer": "ipython3",
   "version": "3.6.3"
  }
 },
 "nbformat": 4,
 "nbformat_minor": 2
}
