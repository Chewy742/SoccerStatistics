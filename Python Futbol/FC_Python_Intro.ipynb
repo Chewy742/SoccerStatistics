{
 "cells": [
  {
   "cell_type": "markdown",
   "metadata": {},
   "source": [
    "# A notebook for introductory concepts into data visualization and analysis for soccer statistics\n"
   ]
  },
  {
   "cell_type": "code",
   "execution_count": null,
   "metadata": {
    "collapsed": true
   },
   "outputs": [],
   "source": []
  },
  {
   "cell_type": "code",
   "execution_count": 4,
   "metadata": {
    "collapsed": true
   },
   "outputs": [],
   "source": [
    "import random \n",
    "\n",
    "# Using random to run simulations on match results. \n"
   ]
  },
  {
   "cell_type": "markdown",
   "metadata": {},
   "source": [
    "Simulations use xG, a pre-reported measurement of how many goals \n",
    "a team was expected to score based of the shots they took in the game. \n",
    "\n",
    "Using those statistics, I'll do a quick simulation of how \"lucky\" the \n",
    "team in question was- whether they overperformed their expected goals, \n",
    "or underperformed."
   ]
  },
  {
   "cell_type": "code",
   "execution_count": 5,
   "metadata": {},
   "outputs": [],
   "source": [
    "#stats\n",
    "HomexG = [0.21,0.66,0.1,0.14,0.01]\n",
    "AwayxG = [0.04,0.06,0.01,0.04,0.06,0.12,0.01,0.06]\n",
    "\n",
    "\n",
    "def calculateWinner(home, away):\n",
    "    \n",
    "    #Matches start at 0-0\n",
    "    HomeGoals = 0\n",
    "    AwayGoals = 0\n",
    "    \n",
    "    \n",
    "    #Runs a random test to see if the shots \n",
    "\n",
    "    def testShots(shots):\n",
    "        \n",
    "        #Start goal count at 0\n",
    "        Goals = 0\n",
    "        \n",
    "        #For each shot, if it goes in, add a goal\n",
    "        for shot in shots:\n",
    "            if random.random() <= shot:\n",
    "                Goals += 1\n",
    "                \n",
    "        #Finally, return the number of goals\n",
    "        return Goals\n",
    "    \n",
    "    #Run the above formula for home and away lists\n",
    "    HomeGoals = testShots(home)\n",
    "    AwayGoals = testShots(away)\n",
    "    \n",
    "    #Return the score\n",
    "    if HomeGoals > AwayGoals:\n",
    "        print(\"Home Wins! {} - {}\".format(HomeGoals, AwayGoals))\n",
    "    elif AwayGoals > HomeGoals:\n",
    "        print(\"Away Wins! {} - {}\".format(HomeGoals, AwayGoals))\n",
    "    else:\n",
    "        print(\"Share of the points! {} - {}\".format(HomeGoals, AwayGoals))\n",
    "    \n"
   ]
  },
  {
   "cell_type": "code",
   "execution_count": 6,
   "metadata": {},
   "outputs": [
    {
     "name": "stdout",
     "output_type": "stream",
     "text": [
      "Share of the points! 1 - 1\n"
     ]
    }
   ],
   "source": [
    "calculateWinner(HomexG, AwayxG)"
   ]
  },
  {
   "cell_type": "markdown",
   "metadata": {},
   "source": [
    "Time to scale up - let's simulate a bunch of matches"
   ]
  },
  {
   "cell_type": "code",
   "execution_count": 11,
   "metadata": {
    "collapsed": true
   },
   "outputs": [],
   "source": [
    "\n",
    "def calculateWinnerV2(home, away):\n",
    "    HomeGoals = 0\n",
    "    AwayGoals = 0\n",
    "    \n",
    "    def testShots(shots):\n",
    "        Goals = 0\n",
    "        \n",
    "        for shot in shots:\n",
    "            if random.random() <= shot:\n",
    "                Goals += 1\n",
    "        return Goals\n",
    "    \n",
    "    HomeGoals = testShots(home)\n",
    "    AwayGoals = testShots(away)\n",
    "    \n",
    "    # Return strings rather than ask for a print out- so we can count\n",
    "    if HomeGoals > AwayGoals:\n",
    "        return(\"home\")\n",
    "    elif AwayGoals > HomeGoals:\n",
    "        return(\"away\")\n",
    "    else:\n",
    "        return(\"draw\")"
   ]
  },
  {
   "cell_type": "code",
   "execution_count": 12,
   "metadata": {},
   "outputs": [],
   "source": [
    "def calculateChance(team1, team2):\n",
    "    home = 0 \n",
    "    away = 0\n",
    "    draw = 0\n",
    "    \n",
    "    for i in range(0, 10000): \n",
    "        matchWinner = calculateWinnerV2(team1, team2)\n",
    "        if matchWinner == \"home\":\n",
    "            home +=1\n",
    "        elif matchWinner == \"away\":\n",
    "            away +=1\n",
    "        else:\n",
    "            draw +=1\n",
    "    \n",
    "    home = home/100\n",
    "    away = away/100\n",
    "    draw = draw/100\n",
    "    \n",
    "    print(\"Over 10000 games, home wins {}%, away wins {}% and there is a draw in {}% of games.\".format(home, away, draw))"
   ]
  },
  {
   "cell_type": "code",
   "execution_count": 13,
   "metadata": {},
   "outputs": [
    {
     "name": "stdout",
     "output_type": "stream",
     "text": [
      "Over 10000 games, home wins 60.69%, away wins 10.02% and there is a draw in 29.29% of games.\n"
     ]
    }
   ],
   "source": [
    "calculateChance(HomexG, AwayxG)"
   ]
  },
  {
   "cell_type": "code",
   "execution_count": 14,
   "metadata": {},
   "outputs": [
    {
     "name": "stdout",
     "output_type": "stream",
     "text": [
      "Over 10000 games, home wins 30.65%, away wins 23.77% and there is a draw in 45.58% of games.\n"
     ]
    }
   ],
   "source": [
    "#Trying a different set of xG \n",
    "\n",
    "HomexG = [.5]\n",
    "AwayxG=[0.05,0.05,0.05,0.05,0.05,0.05,0.05,0.05,0.05,0.05]\n",
    "\n",
    "calculateChance(HomexG, AwayxG)\n"
   ]
  },
  {
   "cell_type": "code",
   "execution_count": null,
   "metadata": {
    "collapsed": true
   },
   "outputs": [],
   "source": []
  }
 ],
 "metadata": {
  "kernelspec": {
   "display_name": "Python 3",
   "language": "python",
   "name": "python3"
  },
  "language_info": {
   "codemirror_mode": {
    "name": "ipython",
    "version": 3
   },
   "file_extension": ".py",
   "mimetype": "text/x-python",
   "name": "python",
   "nbconvert_exporter": "python",
   "pygments_lexer": "ipython3",
   "version": "3.6.3"
  }
 },
 "nbformat": 4,
 "nbformat_minor": 2
}
