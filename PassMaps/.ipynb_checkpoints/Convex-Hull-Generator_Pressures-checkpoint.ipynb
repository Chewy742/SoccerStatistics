{
 "cells": [
  {
   "cell_type": "code",
   "execution_count": 53,
   "metadata": {},
   "outputs": [
    {
     "name": "stdout",
     "output_type": "stream",
     "text": [
      "<scipy.spatial.qhull.ConvexHull object at 0x1106a4208>\n",
      "<class 'list'>\n"
     ]
    },
    {
     "data": {
      "image/png": "[encoded data removed]",
      "text/plain": [
       "<matplotlib.figure.Figure at 0x1106a43c8>"
      ]
     },
     "metadata": {},
     "output_type": "display_data"
    }
   ],
   "source": [
    "from scipy.spatial import ConvexHull\n",
    "\n",
    "import json \n",
    "import pandas as pd\n",
    "import numpy as np\n",
    "\n",
    "import matplotlib.pyplot as plt\n",
    "from matplotlib.patches import Arc\n",
    "\n",
    "\n",
    "%matplotlib inline\n",
    "\n",
    "\n",
    "def convexHullPressureGenerator(jsonName, playerNames, matchName, whichHalf):\n",
    "    \n",
    "    with open(jsonName,'r') as f:\n",
    "        data = json.load(f) #loads json in form of dictionaries \n",
    "        f.close()\n",
    "    \n",
    "    # This puts in all the players we want to get into a dictionary for easy access\n",
    "    playerDictionary = {}\n",
    "    for player in playerNames:\n",
    "        playerDictionary[player] = [] # the key is inconsequential\n",
    "    \n",
    "    pressureData = [] #contains all pressure events \n",
    "    \n",
    "    # a pressure eventData will contain the following strucure\n",
    "    # [playerName (0), location (1), half(2)] \n",
    "    \n",
    "    eventData = [] \n",
    "    \n",
    "    \n",
    "    #Created in the order of the lists created\n",
    "    player = \"\" \n",
    "    location = [] \n",
    "    half = 1\n",
    "    complete = True\n",
    "\n",
    "    #JSON Data is from StatsBomb open-source data, find JSON structure in Pass-Map-Trials\n",
    "\n",
    "    for i in range(0, len(data)):\n",
    "        if(\"Half End\" in data[i]):\n",
    "            half = 2\n",
    "        if(\"pass\" in data[i]):\n",
    "            \n",
    "            location = data[i][\"location\"]\n",
    "            player = data[i][\"player\"][\"name\"]\n",
    "            eventData = [player, location, half]\n",
    "            pressureData.append(eventData)\n",
    "            \n",
    "    # this next section reduces pressureData into only the players passed in by user \n",
    "    \n",
    "    \n",
    "    \n",
    "    #the dictionary created before helps here \n",
    "    \n",
    "    for i in range(0, len(pressureData)):\n",
    "        if(pressureData[i][0] in playerDictionary):\n",
    "            playersPressures = playerDictionary[pressureData[i][0]] # accesses list stored in dict\n",
    "            playersPressures.append(pressureData[i][1]) # appends just the location of pressures for a given player\n",
    "            playerDictionary[pressureData[i][0]] = playersPressures #restores \n",
    "            \n",
    "        \n",
    "    # At this point , the playersDictionary is a dictionary that stores \n",
    "    # the player name , and the associated list of all pressures \n",
    "    \n",
    "    locations = []\n",
    "    for player in playerDictionary:\n",
    "        \n",
    "        locations = playerDictionary[player] # list of coordinates\n",
    "        #convex hulls need at least 2 points, if this isnt the case, we'll just ignore that player's contribution\n",
    "        try: \n",
    "            hull = ConvexHull(locations)\n",
    "            \n",
    "            print(hull)\n",
    "        except: \n",
    "            pass\n",
    "        \n",
    "        try:\n",
    "            for points in locations:\n",
    "                plt.plot(points[0], points[1], 'o', color = \"black\")   \n",
    "            \n",
    "            for simplex in hull.simplices:\n",
    "                plt.plot(locations[simplex,0], locations[simplex,1], 'k-')\n",
    "                \n",
    "                \n",
    "        except:\n",
    "            pass\n",
    "            \n",
    "    plt.show()\n",
    "            \n",
    "    \n",
    "            \n",
    "    \n",
    "    \n",
    "        \n",
    "    \n",
    "    \n",
    "    \n",
    "players = [\"Luka Modrić\"]\n",
    "convexHullPressureGenerator(\"8658.json\", players, \"2018 World Cup Final\", 2)\n",
    "            \n",
    "    "
   ]
  },
  {
   "cell_type": "code",
   "execution_count": 33,
   "metadata": {},
   "outputs": [
    {
     "name": "stdout",
     "output_type": "stream",
     "text": [
      "[[ 0.42426289  0.67759035]\n",
      " [ 0.78135964  0.31588379]\n",
      " [ 0.36199055  0.78558297]\n",
      " [ 0.24965433  0.44546861]\n",
      " [ 0.45743099  0.90104224]\n",
      " [ 0.15495414  0.04242748]\n",
      " [ 0.87938229  0.82512622]\n",
      " [ 0.33136106  0.97371296]\n",
      " [ 0.76458318  0.52211087]\n",
      " [ 0.10502279  0.39488487]\n",
      " [ 0.35305017  0.124096  ]\n",
      " [ 0.14169449  0.11483881]\n",
      " [ 0.42697149  0.71121294]\n",
      " [ 0.08247796  0.89110387]\n",
      " [ 0.68478327  0.60857436]\n",
      " [ 0.84195648  0.62961098]\n",
      " [ 0.48921903  0.40836934]\n",
      " [ 0.47518405  0.35499331]\n",
      " [ 0.85224381  0.91268928]\n",
      " [ 0.80643563  0.93740417]\n",
      " [ 0.09831946  0.60209387]\n",
      " [ 0.40994799  0.43499588]\n",
      " [ 0.89499231  0.79779673]\n",
      " [ 0.57227256  0.27064965]\n",
      " [ 0.08715146  0.95188641]\n",
      " [ 0.94621428  0.3701529 ]\n",
      " [ 0.41797306  0.57476861]\n",
      " [ 0.13295316  0.01366684]\n",
      " [ 0.33318907  0.34048025]\n",
      " [ 0.05919333  0.41210814]]\n",
      "[27 29]\n",
      "[27 25]\n",
      "[24  7]\n",
      "[13 29]\n",
      "[13 24]\n",
      "[22 25]\n",
      "[22 18]\n",
      "[19  7]\n",
      "[19 18]\n"
     ]
    },
    {
     "data": {
      "image/png": "[encoded data removed]",
      "text/plain": [
       "<matplotlib.figure.Figure at 0x10f5666d8>"
      ]
     },
     "metadata": {},
     "output_type": "display_data"
    }
   ],
   "source": [
    "from scipy.spatial import ConvexHull, convex_hull_plot_2d\n",
    "points = np.random.rand(30, 2)   # 30 random points in 2-D\n",
    "hull = ConvexHull(points)\n",
    "\n",
    "print(points)\n",
    "import matplotlib.pyplot as plt\n",
    "plt.plot(points[:,0], points[:,1], 'o')\n",
    "for simplex in hull.simplices:\n",
    "    print(simplex)\n",
    "    plt.plot(points[simplex, 0], points[simplex, 1], 'k-')\n",
    "    \n",
    "plt.show()"
   ]
  },
  {
   "cell_type": "code",
   "execution_count": null,
   "metadata": {
    "collapsed": true
   },
   "outputs": [],
   "source": []
  }
 ],
 "metadata": {
  "kernelspec": {
   "display_name": "Python 3",
   "language": "python",
   "name": "python3"
  },
  "language_info": {
   "codemirror_mode": {
    "name": "ipython",
    "version": 3
   },
   "file_extension": ".py",
   "mimetype": "text/x-python",
   "name": "python",
   "nbconvert_exporter": "python",
   "pygments_lexer": "ipython3",
   "version": "3.6.3"
  }
 },
 "nbformat": 4,
 "nbformat_minor": 2
}
