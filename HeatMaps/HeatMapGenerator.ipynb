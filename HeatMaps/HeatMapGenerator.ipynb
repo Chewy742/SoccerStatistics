{
 "cells": [
  {
   "cell_type": "markdown",
   "metadata": {},
   "source": [
    "# Heat Map Generator\n",
    "\n",
    "### A module for plotting \"heat\" maps for various player actions - defensive pressures, passes, shots, or all!\n",
    "\n",
    "My hope for this Heat Map Generator is that it will be quite customizable - player, type of action, full 90 or just one half.. \n",
    "\n",
    "Let's jump right in!"
   ]
  },
  {
   "cell_type": "code",
   "execution_count": 48,
   "metadata": {},
   "outputs": [
    {
     "name": "stdout",
     "output_type": "stream",
     "text": [
      "[[\"N'Golo Kanté\", [65.0, 64.0], False], [\"N'Golo Kanté\", [9.0, 15.0], True], [\"N'Golo Kanté\", [9.0, 16.0], False], [\"N'Golo Kanté\", [26.0, 4.0], True], [\"N'Golo Kanté\", [55.0, 12.0], True], [\"N'Golo Kanté\", [54.0, 15.0], True], [\"N'Golo Kanté\", [20.0, 7.0], False], [\"N'Golo Kanté\", [35.0, 12.0], True], [\"N'Golo Kanté\", [45.0, 30.0], True], [\"N'Golo Kanté\", [49.0, 24.0], False], [\"N'Golo Kanté\", [34.0, 12.0], True]]\n"
     ]
    },
    {
     "data": {
      "image/png": "[encoded data removed]",
      "text/plain": [
       "<matplotlib.figure.Figure at 0x1a210cc1d0>"
      ]
     },
     "metadata": {},
     "output_type": "display_data"
    }
   ],
   "source": [
    "heatMapGenerator(\"8658.json\", \"N'Golo Kanté\", \"2018 World Cup Final\")          \n"
   ]
  },
  {
   "cell_type": "code",
   "execution_count": 47,
   "metadata": {},
   "outputs": [
    {
     "name": "stdout",
     "output_type": "stream",
     "text": [
      "[['Olivier Giroud', [69.0, 26.0], True], ['Olivier Giroud', [61.0, 31.0], True], ['Olivier Giroud', [25.0, 33.0], False], ['Olivier Giroud', [94.0, 43.0], False], ['Olivier Giroud', [76.0, 49.0], True], ['Olivier Giroud', [91.0, 78.0], True], ['Olivier Giroud', [66.0, 24.0], False], ['Olivier Giroud', [74.0, 60.0], True], ['Olivier Giroud', [70.0, 22.0], True], ['Olivier Giroud', [102.0, 56.0], True], ['Olivier Giroud', [68.0, 48.0], True], ['Olivier Giroud', [73.0, 55.0], False], ['Olivier Giroud', [46.0, 40.0], True], ['Olivier Giroud', [85.0, 62.0], False], ['Olivier Giroud', [36.0, 4.0], True], ['Olivier Giroud', [111.0, 77.0], True], ['Olivier Giroud', [92.0, 26.0], False], ['Olivier Giroud', [27.0, 47.0], True], ['Olivier Giroud', [26.0, 49.0], True], ['Olivier Giroud', [74.0, 57.0], True], ['Olivier Giroud', [103.0, 14.0], False], ['Olivier Giroud', [75.0, 53.0], False], ['Olivier Giroud', [45.0, 69.0], False]]\n"
     ]
    },
    {
     "data": {
      "image/png": "[encoded data removed]",
      "text/plain": [
       "<matplotlib.figure.Figure at 0x1a179cad68>"
      ]
     },
     "metadata": {},
     "output_type": "display_data"
    }
   ],
   "source": [
    "# Let's start out the way I start out with all generators - by parsing through the StatBomb Data. \n",
    "\n",
    "import json\n",
    "\n",
    "import pandas as pd\n",
    "import numpy as np\n",
    "import matplotlib.pyplot as plt\n",
    "from matplotlib.patches import Arc\n",
    "import seaborn as sns\n",
    "\n",
    "\n",
    "\n",
    "%matplotlib inline\n",
    "\n",
    "\n",
    "def heatMapGenerator(jsonName, playerName, matchName):\n",
    "    \n",
    "    with open(jsonName,'r') as f:\n",
    "        data = json.load(f) #loads json in form of dictionaries \n",
    "        f.close()\n",
    "        \n",
    "    fig=plt.figure()\n",
    "    fig.set_size_inches(7, 5)\n",
    "    ax=fig.add_subplot(1,1,1)\n",
    "    makePitchMarkings(playerName, fig, ax, matchName)\n",
    "        \n",
    "    #All passes from one player\n",
    "    \n",
    "    passData = []\n",
    "    eventData = []\n",
    "    \n",
    "    #Created in the order of the lists created\n",
    "    player = \"\" \n",
    "    location = [] \n",
    "    actionType = \"\"\n",
    "    complete = True\n",
    "\n",
    "    for i in range(0, len(data)):\n",
    "        if(\"pass\" in data[i]):\n",
    "            startLocation = data[i][\"location\"]\n",
    "            player = data[i][\"player\"][\"name\"]\n",
    "            if (player == playerName):\n",
    "                \n",
    "                if(\"outcome\" in data[i]['pass']):\n",
    "                    complete = False\n",
    "                else:\n",
    "                    complete = True\n",
    "                eventData = [player, startLocation, complete]\n",
    "                passData.append(eventData)   \n",
    "                \n",
    "    print(passData)\n",
    "    \n",
    "    xstart = []\n",
    "    ystart = []\n",
    "    for i in range(0, len(passData)):\n",
    "        xstart.append(passData[i][1][0])\n",
    "        ystart.append(passData[i][1][1])\n",
    "        \n",
    "        \n",
    "    locations = [xstart, ystart]\n",
    "    \n",
    "    \n",
    "    sns.kdeplot(locations[0], locations[1], shade = \"True\", n_levels=5)\n",
    "    #plt.ylim(0, 90)\n",
    "    #plt.xlim(0, 130)\n",
    "    \n",
    "    plt.show()\n",
    "    \n",
    "        \n",
    "heatMapGenerator(\"8658.json\", \"Olivier Giroud\", \"2018 World Cup Final\")          \n",
    "            \n",
    "    \n",
    "    "
   ]
  },
  {
   "cell_type": "code",
   "execution_count": 18,
   "metadata": {
    "collapsed": true
   },
   "outputs": [],
   "source": [
    "def makePitchMarkings(player, fig, ax, matchName):\n",
    "\n",
    "    #Pitch Outline & Centre Line\n",
    "    plt.plot([0,0],[0,90], color=\"black\")\n",
    "    plt.plot([0,130],[90,90], color=\"black\")\n",
    "    plt.plot([130,130],[90,0], color=\"black\")\n",
    "    plt.plot([130,0],[0,0], color=\"black\")\n",
    "    plt.plot([65,65],[0,90], color=\"black\")\n",
    "\n",
    "    #Left Penalty Area\n",
    "    plt.plot([16.5,16.5],[65,25],color=\"black\")\n",
    "    plt.plot([0,16.5],[65,65],color=\"black\")\n",
    "    plt.plot([16.5,0],[25,25],color=\"black\")\n",
    "\n",
    "    #Right Penalty Area\n",
    "    plt.plot([130,113.5],[65,65],color=\"black\")\n",
    "    plt.plot([113.5,113.5],[65,25],color=\"black\")\n",
    "    plt.plot([113.5,130],[25,25],color=\"black\")\n",
    "\n",
    "    #Left 6-yard Box\n",
    "    plt.plot([0,5.5],[54,54],color=\"black\")\n",
    "    plt.plot([5.5,5.5],[54,36],color=\"black\")\n",
    "    plt.plot([5.5,0.5],[36,36],color=\"black\")\n",
    "\n",
    "    #Right 6-yard Box\n",
    "    plt.plot([130,124.5],[54,54],color=\"black\")\n",
    "    plt.plot([124.5,124.5],[54,36],color=\"black\")\n",
    "    plt.plot([124.5,130],[36,36],color=\"black\")\n",
    "\n",
    "    #Prepare Circles\n",
    "    centreCircle = plt.Circle((65,45),9.15,color=\"black\",fill=False)\n",
    "    centreSpot = plt.Circle((65,45),0.8,color=\"black\")\n",
    "    leftPenSpot = plt.Circle((11,45),0.8,color=\"black\")\n",
    "    rightPenSpot = plt.Circle((119,45),0.8,color=\"black\")\n",
    "\n",
    "    #Draw Circles\n",
    "    ax.add_patch(centreCircle)\n",
    "    ax.add_patch(centreSpot)\n",
    "    ax.add_patch(leftPenSpot)\n",
    "    ax.add_patch(rightPenSpot)\n",
    "\n",
    "    #Prepare Arcs\n",
    "    leftArc = Arc((11,45),height=18.3,width=18.3,angle=0,theta1=310,theta2=50,color=\"black\")\n",
    "    rightArc = Arc((119,45),height=18.3,width=18.3,angle=0,theta1=130,theta2=230,color=\"black\")\n",
    "\n",
    "    #Draw Arcs\n",
    "    ax.add_patch(leftArc)\n",
    "    ax.add_patch(rightArc)\n",
    "\n",
    "    #Tidy Axes\n",
    "    plt.axis('off')\n",
    "    \n",
    "    header = player + \", \" + matchName + \" - Passing Heat Map\"\n",
    "    ax.text(2,95, header ,color=\"black\",size=\"14\")\n",
    "        "
   ]
  }
 ],
 "metadata": {
  "kernelspec": {
   "display_name": "Python 3",
   "language": "python",
   "name": "python3"
  },
  "language_info": {
   "codemirror_mode": {
    "name": "ipython",
    "version": 3
   },
   "file_extension": ".py",
   "mimetype": "text/x-python",
   "name": "python",
   "nbconvert_exporter": "python",
   "pygments_lexer": "ipython3",
   "version": "3.6.3"
  }
 },
 "nbformat": 4,
 "nbformat_minor": 2
}
