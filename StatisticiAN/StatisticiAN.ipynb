{
 "cells": [
  {
   "cell_type": "markdown",
   "metadata": {},
   "source": [
    "# StatisticiAN\n",
    "\n",
    "Created by Achuth Nair (AN), StatisticiAN is an custom application that allows you to pick the games, players, actions, and stats you want to see. Browse our list of games to choose from, and allow the application to direct you curiosity! "
   ]
  },
  {
   "cell_type": "markdown",
   "metadata": {},
   "source": [
    "#### Current Games available: \n",
    "    1) World Cup Final 2018"
   ]
  },
  {
   "cell_type": "code",
   "execution_count": 2,
   "metadata": {
    "collapsed": true
   },
   "outputs": [],
   "source": [
    "import json "
   ]
  },
  {
   "cell_type": "code",
   "execution_count": 3,
   "metadata": {
    "collapsed": true
   },
   "outputs": [],
   "source": [
    "games = [[\"8658.json\", \"1) WCF 2018 - France v Croatia\"]]"
   ]
  },
  {
   "cell_type": "code",
   "execution_count": 4,
   "metadata": {},
   "outputs": [
    {
     "name": "stdout",
     "output_type": "stream",
     "text": [
      "Here are the available games: \n",
      "1) WCF 2018 - France v Croatia\n",
      "Which games would you like to see?/n Enter the number associated with the game. 1\n",
      "Do you wish to continue? 0 to exit, any other key to continue: 0\n"
     ]
    }
   ],
   "source": [
    "loop = True\n",
    "\n",
    "while (loop):\n",
    "    \n",
    "    print(\"Here are the available games: \")\n",
    "    for i in range(len(games)):\n",
    "        print(games[i][1])\n",
    "    gameNumber = int(input(\"Which games would you like to see?/n Enter the number associated with the game. \"))\n",
    "    \n",
    "    data = loadJson(gameNumber, games)\n",
    "    \n",
    "    \n",
    "    \n",
    "    exit = int(input(\"Do you wish to continue? 0 to exit, any other key to continue: \"))\n",
    "    if (exit == 0): \n",
    "        loop = False\n",
    "        \n",
    "    \n",
    "        "
   ]
  },
  {
   "cell_type": "code",
   "execution_count": 1,
   "metadata": {
    "collapsed": true
   },
   "outputs": [],
   "source": [
    "def loadJson(gameNumber, games):\n",
    "    \n",
    "    with open(games[gameNumber-1][0],'r') as f:\n",
    "        data = json.load(f) #loads json in form of dictionaries \n",
    "        f.close()\n",
    "    return data\n",
    "        \n",
    "        \n",
    "    \n",
    "    "
   ]
  },
  {
   "cell_type": "code",
   "execution_count": null,
   "metadata": {
    "collapsed": true
   },
   "outputs": [],
   "source": []
  }
 ],
 "metadata": {
  "kernelspec": {
   "display_name": "Python 3",
   "language": "python",
   "name": "python3"
  },
  "language_info": {
   "codemirror_mode": {
    "name": "ipython",
    "version": 3
   },
   "file_extension": ".py",
   "mimetype": "text/x-python",
   "name": "python",
   "nbconvert_exporter": "python",
   "pygments_lexer": "ipython3",
   "version": "3.6.3"
  }
 },
 "nbformat": 4,
 "nbformat_minor": 2
}
