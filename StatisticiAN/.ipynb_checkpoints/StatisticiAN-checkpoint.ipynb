{
 "cells": [
  {
   "cell_type": "markdown",
   "metadata": {},
   "source": [
    "# StatisticiAN\n",
    "\n",
    "Created by Achuth Nair (AN), StatisticiAN is an custom application that allows you to pick the games, players, actions, and stats you want to see. Browse our list of games to choose from, and allow the application to direct your curiosity! "
   ]
  },
  {
   "cell_type": "markdown",
   "metadata": {},
   "source": [
    "To do list: \n",
    "\n",
    "    1. Single Player Analysis\n",
    "       Completed:\n",
    "        a. Team -> Player -> Events for that Player\n",
    "        b. Introduce what type of analysis can be run \n",
    "            i. Passing\n",
    "            ii. Pressures\n",
    "        To-Do:\n",
    "        a. Think of any other Heat Map functions\n",
    "        b. Start putting in others - Pass Maps\n",
    "    \n",
    "    2. "
   ]
  },
  {
   "cell_type": "markdown",
   "metadata": {},
   "source": [
    "#### Current Games available: \n",
    "    1) World Cup Final 2018"
   ]
  },
  {
   "cell_type": "markdown",
   "metadata": {},
   "source": [
    "#### How To Run:\n",
    "\n",
    "    1. Run all the cells except for the first one after this markdown. Then go back and run the statisticiAN() call!\n",
    "    2. Please follow the integer inputs - I haven't coded error handling yet :) "
   ]
  },
  {
   "cell_type": "code",
   "execution_count": 22,
   "metadata": {},
   "outputs": [
    {
     "name": "stdout",
     "output_type": "stream",
     "text": [
      "Here are the available games: \n",
      "1) WCF 2018 - France v Croatia\n",
      "Which games would you like to see?/n Enter the number associated with the game. 1\n",
      "What team would you like to analyze?: \n",
      "\n",
      "0 -  France \t 1 -  Croatia \n",
      "\n",
      "Enter the number associated with the team you'd like to analyze: 0\n",
      "Here are the players available for analysis: \n",
      "\n",
      "0 - Hugo Lloris\n",
      "1 - Benjamin Pavard\n",
      "2 - Raphaël Varane\n",
      "3 - Samuel Yves Umtiti\n",
      "4 - Lucas Hernández Pi\n",
      "5 - Paul Pogba\n",
      "6 - N'Golo Kanté\n",
      "7 - Kylian Mbappé Lottin\n",
      "8 - Blaise Matuidi\n",
      "9 - Antoine Griezmann\n",
      "10 - Olivier Giroud\n",
      "\n",
      "Enter the number associated with the player you'd like to analyze: \n",
      "5\n",
      "You chose:  Paul Pogba\n",
      "\n",
      "Analysis Options: \n",
      "0 - Heat Maps\n",
      "1 - Pass Maps\n",
      "\n",
      "Which of the above types of analyses would you like to carry out?: 1\n",
      "Pass Maps visualize a player's attempted passes for the game, giving you an idea of their passing range and efficacy. \n",
      "Here is your player's map: \n"
     ]
    },
    {
     "ename": "NameError",
     "evalue": "name 'playerPasses' is not defined",
     "output_type": "error",
     "traceback": [
      "\u001b[0;31m---------------------------------------------------------------------------\u001b[0m",
      "\u001b[0;31mNameError\u001b[0m                                 Traceback (most recent call last)",
      "\u001b[0;32m<ipython-input-22-9433677b9997>\u001b[0m in \u001b[0;36m<module>\u001b[0;34m()\u001b[0m\n\u001b[0;32m----> 1\u001b[0;31m \u001b[0mstatisticiAN\u001b[0m\u001b[0;34m(\u001b[0m\u001b[0;34m)\u001b[0m\u001b[0;34m\u001b[0m\u001b[0m\n\u001b[0m",
      "\u001b[0;32m<ipython-input-21-65113ac8d95b>\u001b[0m in \u001b[0;36mstatisticiAN\u001b[0;34m()\u001b[0m\n\u001b[1;32m     53\u001b[0m         \u001b[0;32mif\u001b[0m\u001b[0;34m(\u001b[0m\u001b[0manalysisNumber\u001b[0m \u001b[0;34m==\u001b[0m \u001b[0;36m1\u001b[0m\u001b[0;34m)\u001b[0m\u001b[0;34m:\u001b[0m\u001b[0;34m\u001b[0m\u001b[0m\n\u001b[1;32m     54\u001b[0m             \u001b[0mprint\u001b[0m\u001b[0;34m(\u001b[0m\u001b[0;34m\"Pass Maps visualize a player's attempted passes for the game, giving you an idea of their passing range and efficacy. \\nHere is your player's map: \"\u001b[0m\u001b[0;34m)\u001b[0m\u001b[0;34m\u001b[0m\u001b[0m\n\u001b[0;32m---> 55\u001b[0;31m             \u001b[0mgeneratePassMap\u001b[0m\u001b[0;34m(\u001b[0m\u001b[0mcompletePlayerData\u001b[0m\u001b[0;34m,\u001b[0m \u001b[0mspecificPlayer\u001b[0m\u001b[0;34m,\u001b[0m \u001b[0mtitle\u001b[0m\u001b[0;34m)\u001b[0m\u001b[0;34m\u001b[0m\u001b[0m\n\u001b[0m\u001b[1;32m     56\u001b[0m \u001b[0;34m\u001b[0m\u001b[0m\n\u001b[1;32m     57\u001b[0m         \u001b[0mexit\u001b[0m \u001b[0;34m=\u001b[0m \u001b[0mint\u001b[0m\u001b[0;34m(\u001b[0m\u001b[0minput\u001b[0m\u001b[0;34m(\u001b[0m\u001b[0;34m\"Do you wish to continue? 1 to continue, any other key to exit: \"\u001b[0m\u001b[0;34m)\u001b[0m\u001b[0;34m)\u001b[0m\u001b[0;34m\u001b[0m\u001b[0m\n",
      "\u001b[0;32m<ipython-input-17-99c98a902a93>\u001b[0m in \u001b[0;36mgeneratePassMap\u001b[0;34m(data, playerName, title)\u001b[0m\n\u001b[1;32m     32\u001b[0m     \u001b[0;32mfor\u001b[0m \u001b[0mi\u001b[0m \u001b[0;32min\u001b[0m \u001b[0mrange\u001b[0m\u001b[0;34m(\u001b[0m\u001b[0;36m0\u001b[0m\u001b[0;34m,\u001b[0m \u001b[0mlen\u001b[0m\u001b[0;34m(\u001b[0m\u001b[0mpassData\u001b[0m\u001b[0;34m)\u001b[0m\u001b[0;34m)\u001b[0m\u001b[0;34m:\u001b[0m\u001b[0;34m\u001b[0m\u001b[0m\n\u001b[1;32m     33\u001b[0m \u001b[0;34m\u001b[0m\u001b[0m\n\u001b[0;32m---> 34\u001b[0;31m         \u001b[0;32mif\u001b[0m\u001b[0;34m(\u001b[0m\u001b[0mplayerPasses\u001b[0m\u001b[0;34m[\u001b[0m\u001b[0mi\u001b[0m\u001b[0;34m]\u001b[0m\u001b[0;34m[\u001b[0m\u001b[0;36m3\u001b[0m\u001b[0;34m]\u001b[0m \u001b[0;34m==\u001b[0m \u001b[0;32mTrue\u001b[0m\u001b[0;34m)\u001b[0m\u001b[0;34m:\u001b[0m\u001b[0;34m\u001b[0m\u001b[0m\n\u001b[0m\u001b[1;32m     35\u001b[0m             \u001b[0mcomplete\u001b[0m \u001b[0;34m+=\u001b[0m \u001b[0;36m1\u001b[0m \u001b[0;31m# for completion percentage\u001b[0m\u001b[0;34m\u001b[0m\u001b[0m\n\u001b[1;32m     36\u001b[0m \u001b[0;34m\u001b[0m\u001b[0m\n",
      "\u001b[0;31mNameError\u001b[0m: name 'playerPasses' is not defined"
     ]
    },
    {
     "data": {
      "image/png": "[encoded data removed]",
      "text/plain": [
       "<matplotlib.figure.Figure at 0x1a1189eba8>"
      ]
     },
     "metadata": {},
     "output_type": "display_data"
    }
   ],
   "source": [
    "statisticiAN()"
   ]
  },
  {
   "cell_type": "code",
   "execution_count": 2,
   "metadata": {
    "collapsed": true
   },
   "outputs": [],
   "source": [
    "import json \n",
    "\n",
    "import pandas as pd\n",
    "import numpy as np\n",
    "import matplotlib.pyplot as plt\n",
    "from matplotlib.patches import Arc\n",
    "import seaborn as sns\n",
    "\n",
    "%matplotlib inline"
   ]
  },
  {
   "cell_type": "code",
   "execution_count": 3,
   "metadata": {
    "collapsed": true
   },
   "outputs": [],
   "source": [
    "games = [[\"8658.json\", \"1) WCF 2018 - France v Croatia\"]]"
   ]
  },
  {
   "cell_type": "code",
   "execution_count": 21,
   "metadata": {
    "collapsed": true
   },
   "outputs": [],
   "source": [
    "def statisticiAN():\n",
    "    loop = True\n",
    "\n",
    "    while (loop):\n",
    "\n",
    "        print(\"Here are the available games: \")\n",
    "        for i in range(len(games)):\n",
    "            print(games[i][1])\n",
    "        gameNumber = int(input(\"Which games would you like to see?/n Enter the number associated with the game. \"))\n",
    "        title = games[gameNumber-1][1]\n",
    "        data = loadJson(gameNumber, games)\n",
    "        print(\"What team would you like to analyze?: \\n\")\n",
    "        print(\"0 - \", data[0][\"team\"][\"name\"], \"\\t\", \"1 - \", data[1][\"team\"][\"name\"], \"\\n\" )\n",
    "        teamNumber = int(input(\"Enter the number associated with the team you'd like to analyze: \"))\n",
    "        playerNames = loadPlayerNames(data, teamNumber)\n",
    "\n",
    "        print(\"Here are the players available for analysis: \\n\")\n",
    "        for item in playerNames:\n",
    "\n",
    "            print(item[0], \"-\", item[1])\n",
    "\n",
    "        playerNumber = int(input(\"\\nEnter the number associated with the player you'd like to analyze: \\n\"))\n",
    "\n",
    "        specificPlayer = playerNames[playerNumber][1]\n",
    "        print(\"You chose: \", specificPlayer)\n",
    "\n",
    "        # Take all data for that specific player - Works\n",
    "        completePlayerData = loadPlayerData(data, specificPlayer)\n",
    "        \n",
    "        print(\"\\nAnalysis Options: \")\n",
    "        analysisOptions = [\"Heat Maps\", \"Pass Maps\"]\n",
    "        simpleCount = 0\n",
    "        for option in analysisOptions:\n",
    "            print(simpleCount, \"-\", option)\n",
    "            simpleCount += 1\n",
    "        \n",
    "        analysisNumber = int(input(\"\\nWhich of the above types of analyses would you like to carry out?: \"))\n",
    "        \n",
    "        # HEAT MAPS\n",
    "        if (analysisNumber == 0):  \n",
    "            print(\"Heat maps are great tools to visualize player events in a location-based analysis. Since we don't have GPS data, please choose an event type to track: \")\n",
    "            eventTypesForHeatMapsForDisplay = [\"Passing Heat Map\", \"Defensive Pressure Heat Map\"]\n",
    "            eventTypesForHeatMaps = [\"pass\", \"Pressure\"]\n",
    "            count = 0\n",
    "            for entry in eventTypesForHeatMapsForDisplay: \n",
    "                print(count, \"-\", entry)\n",
    "                count += 1 \n",
    "            \n",
    "            analysisTypeNumber = int(input(\"\\nWhich type of heat map would you like?: \"))\n",
    "            generateHeatMap(completePlayerData, specificPlayer, eventTypesForHeatMaps[analysisTypeNumber], title)\n",
    "            \n",
    "        # PASS MAPS\n",
    "        if(analysisNumber == 1):\n",
    "            print(\"Pass Maps visualize a player's attempted passes for the game, giving you an idea of their passing range and efficacy. \\nHere is your player's map: \")\n",
    "            generatePassMap(completePlayerData, specificPlayer, title)\n",
    "            \n",
    "        exit = int(input(\"Do you wish to continue? 1 to continue, any other key to exit: \"))\n",
    "        if (exit != 1): \n",
    "            loop = False\n",
    "        \n",
    "    \n",
    "        "
   ]
  },
  {
   "cell_type": "code",
   "execution_count": 14,
   "metadata": {
    "collapsed": true
   },
   "outputs": [],
   "source": [
    "def loadJson(gameNumber, games):\n",
    "    \n",
    "    with open(games[gameNumber-1][0],'r') as f:\n",
    "        data = json.load(f) #loads json in form of dictionaries \n",
    "        f.close()\n",
    "    return data\n",
    "        \n",
    "        \n",
    "    \n",
    "    "
   ]
  },
  {
   "cell_type": "code",
   "execution_count": 15,
   "metadata": {
    "collapsed": true
   },
   "outputs": [],
   "source": [
    "def loadPlayerNames(data, teamNumber):\n",
    "    \n",
    "    jsonData = data\n",
    "    teamOnePlayerNames = []\n",
    "    teamTwoPlayerNames = []\n",
    "    simpleCount = 0\n",
    "    teamOnePlayers = data[0][\"tactics\"][\"lineup\"]\n",
    "    teamTwoPlayers = data[1][\"tactics\"][\"lineup\"]\n",
    "    for i in range(0, len(teamOnePlayers)):\n",
    "        if(\"player\" in teamOnePlayers[i]):\n",
    "            toAppend = []\n",
    "            toAppend.append(simpleCount)\n",
    "            toAppend.append(teamOnePlayers[i][\"player\"][\"name\"])\n",
    "            teamOnePlayerNames.append(toAppend)\n",
    "                                       \n",
    "        \n",
    "        simpleCount += 1\n",
    "        \n",
    "    simpleCount = 0\n",
    "    for i in range(0, len(teamTwoPlayers)):\n",
    "        if(\"player\" in teamTwoPlayers[i]):\n",
    "            toAppend = []\n",
    "            toAppend.append(simpleCount)\n",
    "            toAppend.append(teamTwoPlayers[i][\"player\"][\"name\"])\n",
    "            teamTwoPlayerNames.append(toAppend)\n",
    "                                       \n",
    "        \n",
    "        simpleCount += 1   \n",
    "    \n",
    "    if teamNumber == 0:                             \n",
    "        return teamOnePlayerNames\n",
    "    else:\n",
    "        return teamTwoPlayerNames\n",
    "    "
   ]
  },
  {
   "cell_type": "code",
   "execution_count": 16,
   "metadata": {
    "collapsed": true
   },
   "outputs": [],
   "source": [
    "def loadPlayerData(data, playerName):\n",
    "    \n",
    "    playerData = []\n",
    "    \n",
    "    for i in range(0, len(data)):\n",
    "        if (\"player\" in data[i]):\n",
    "            if data[i][\"player\"][\"name\"] == playerName:\n",
    "                playerData.append(data[i])\n",
    "            \n",
    "    return playerData"
   ]
  },
  {
   "cell_type": "code",
   "execution_count": 17,
   "metadata": {
    "collapsed": true
   },
   "outputs": [],
   "source": [
    "def generatePassMap(data, playerName, title):\n",
    "    fig=plt.figure()\n",
    "    fig.set_size_inches(7, 5)\n",
    "    ax=fig.add_subplot(1,1,1)\n",
    "    makePitchMarkings(playerName, fig, ax, title, \"Pass Map\")\n",
    "    \n",
    "    passData = []\n",
    "    eventData = []\n",
    "    \n",
    "    #Created in the order of the lists created\n",
    "    player = \"\" \n",
    "    startLocation = [] \n",
    "    endLocation = []\n",
    "    complete = True\n",
    "    \n",
    "    for i in range(0, len(data)):\n",
    "        if(\"pass\" in data[i]):\n",
    "            startLocation = data[i][\"location\"]\n",
    "            endLocation = data[i][\"pass\"][\"end_location\"]\n",
    "            player = data[i][\"player\"][\"name\"]\n",
    "            if(\"outcome\" in data[i]['pass']):\n",
    "                complete = False\n",
    "            else:\n",
    "                complete = True\n",
    "            eventData = [player, startLocation, endLocation, complete]\n",
    "            passData.append(eventData)\n",
    "            \n",
    "    #My arrays are as such - player name (0), start(x,y) (1), end(x,y) (2), complete (bool) (3\n",
    "    #This for loop is redundant, haven't changed it yet\n",
    "    playerPasses = []\n",
    "    \n",
    "    for i in range(0, len(passData)):\n",
    "        if(passData[i][0] == playerName):\n",
    "            playerPasses.append(passData[i])\n",
    "   \n",
    "    complete = 0\n",
    "    for i in range(0, len(passData)):\n",
    "        \n",
    "        if(playerPasses[i][3] == True):\n",
    "            complete += 1 # for completion percentage \n",
    "\n",
    "        xstart = int(playerPasses[i][1][0])\n",
    "        xend = int(playerPasses[i][2][0])\n",
    "        ystart = int(playerPasses[i][1][1])\n",
    "        yend = int(playerPasses[i][2][1])\n",
    "        if(playerPasses[i][3] == False):\n",
    "            plt.plot([xstart, xend], [ystart, yend], color = \"red\")\n",
    "            plt.plot(xstart, ystart, \".\", color = \"red\")\n",
    "            plt.plot(xend, yend, \"x\", color = \"red\")\n",
    "        else:\n",
    "            plt.plot([xstart, xend], [ystart, yend], color = \"green\")\n",
    "            plt.plot(xstart, ystart, \".\", color = \"green\")\n",
    "            plt.plot(xend, yend, \"x\", color = \"green\")\n",
    "\n",
    "    title = playerName + \", \" + matchName\n",
    "    ax.text(2,95, title ,color=\"black\",size=\"14\")\n",
    "    \n",
    "    # some code for pass statistics - simple completion percentage\n",
    "    stats = []\n",
    "    stats.append(complete)\n",
    "    stats.append(len(playerPasses))\n",
    "    stats.append(int(complete/len(playerPasses)*100))\n",
    "    \n",
    "    #Put this on the plot \n",
    "    percentageText = f\"{stats[0]}/{stats[1]}, {stats[2]}% \"\n",
    "    ax.text(102, 84, percentageText, color = \"black\", size = \"12\")\n",
    "    \n",
    "    plt.show()\n",
    "    "
   ]
  },
  {
   "cell_type": "code",
   "execution_count": 18,
   "metadata": {
    "collapsed": true
   },
   "outputs": [],
   "source": [
    "def generateHeatMap(data, playerName, action, title):\n",
    "    \n",
    "    fig=plt.figure()\n",
    "    fig.set_size_inches(7, 5)\n",
    "    ax=fig.add_subplot(1,1,1)\n",
    "    makePitchMarkings(playerName, fig, ax, title, action)\n",
    "    \n",
    "    actionData = []\n",
    "    eventData = []\n",
    "    \n",
    "    #Created in the order of the lists created\n",
    "    player = \"\" \n",
    "    complete = True\n",
    "\n",
    "    if(action == \"pass\"):\n",
    "        for i in range(0, len(data)):\n",
    "            if(action in data[i]):\n",
    "                location = data[i][\"location\"] #heatMaps only require the location of the action\n",
    "                player = data[i][\"player\"][\"name\"] #These might be unecessary, since i've already cut down data by player\n",
    "                if (player == playerName): # could be useful later though\n",
    "                    #if(\"outcome\" in data[i][action]):\n",
    "                    #    complete = False\n",
    "                    #else:\n",
    "                    #    complete = True\n",
    "                    eventData = [location]\n",
    "                    actionData.append(eventData)  \n",
    "    \n",
    "    if action == \"Pressure\":\n",
    "        for i in range(0, len(data)):\n",
    "            if action == data[i][\"type\"][\"name\"]:\n",
    "                eventData = [data[i][\"location\"]]\n",
    "                actionData.append(eventData)\n",
    "                \n",
    "    \n",
    "\n",
    "    xstart = [] #putting in this form for kdeplot \n",
    "    ystart = []\n",
    "    for i in range(0, len(actionData)):\n",
    "        xstart.append(actionData[i][0][0])\n",
    "        ystart.append(actionData[i][0][1])\n",
    "        \n",
    "    locations = [xstart, ystart]\n",
    "    \n",
    "    sns.kdeplot(locations[0], locations[1], shade = \"True\", n_levels=5)\n",
    "    plt.ylim(0, 90)\n",
    "    plt.xlim(0, 130)\n",
    "    \n",
    "    plt.show()\n",
    "    "
   ]
  },
  {
   "cell_type": "code",
   "execution_count": 19,
   "metadata": {
    "collapsed": true
   },
   "outputs": [],
   "source": [
    "def makePitchMarkings(player, fig, ax, matchName, action):\n",
    "\n",
    "    #Pitch Outline & Centre Line\n",
    "    plt.plot([0,0],[0,90], color=\"black\")\n",
    "    plt.plot([0,130],[90,90], color=\"black\")\n",
    "    plt.plot([130,130],[90,0], color=\"black\")\n",
    "    plt.plot([130,0],[0,0], color=\"black\")\n",
    "    plt.plot([65,65],[0,90], color=\"black\")\n",
    "\n",
    "    #Left Penalty Area\n",
    "    plt.plot([16.5,16.5],[65,25],color=\"black\")\n",
    "    plt.plot([0,16.5],[65,65],color=\"black\")\n",
    "    plt.plot([16.5,0],[25,25],color=\"black\")\n",
    "\n",
    "    #Right Penalty Area\n",
    "    plt.plot([130,113.5],[65,65],color=\"black\")\n",
    "    plt.plot([113.5,113.5],[65,25],color=\"black\")\n",
    "    plt.plot([113.5,130],[25,25],color=\"black\")\n",
    "\n",
    "    #Left 6-yard Box\n",
    "    plt.plot([0,5.5],[54,54],color=\"black\")\n",
    "    plt.plot([5.5,5.5],[54,36],color=\"black\")\n",
    "    plt.plot([5.5,0.5],[36,36],color=\"black\")\n",
    "\n",
    "    #Right 6-yard Box\n",
    "    plt.plot([130,124.5],[54,54],color=\"black\")\n",
    "    plt.plot([124.5,124.5],[54,36],color=\"black\")\n",
    "    plt.plot([124.5,130],[36,36],color=\"black\")\n",
    "\n",
    "    #Prepare Circles\n",
    "    centreCircle = plt.Circle((65,45),9.15,color=\"black\",fill=False)\n",
    "    centreSpot = plt.Circle((65,45),0.8,color=\"black\")\n",
    "    leftPenSpot = plt.Circle((11,45),0.8,color=\"black\")\n",
    "    rightPenSpot = plt.Circle((119,45),0.8,color=\"black\")\n",
    "\n",
    "    #Draw Circles\n",
    "    ax.add_patch(centreCircle)\n",
    "    ax.add_patch(centreSpot)\n",
    "    ax.add_patch(leftPenSpot)\n",
    "    ax.add_patch(rightPenSpot)\n",
    "\n",
    "    #Prepare Arcs\n",
    "    leftArc = Arc((11,45),height=18.3,width=18.3,angle=0,theta1=310,theta2=50,color=\"black\")\n",
    "    rightArc = Arc((119,45),height=18.3,width=18.3,angle=0,theta1=130,theta2=230,color=\"black\")\n",
    "\n",
    "    #Draw Arcs\n",
    "    ax.add_patch(leftArc)\n",
    "    ax.add_patch(rightArc)\n",
    "\n",
    "    #Tidy Axes\n",
    "    plt.axis('off')\n",
    "    \n",
    "    if (action == \"pass\"):\n",
    "        header = player + \", \" + matchName + \" - Passing Heat Map\"\n",
    "    elif action == \"Pressure\":\n",
    "        header = player + \", \" + matchName + \" - Defensive Pressures Heat Map\"\n",
    "    elif action == \"Pass Map\":\n",
    "        header = player + \",\" + matchName + \"- Pass Map\"\n",
    "    else:\n",
    "        header = player + \", \" + matchName\n",
    "        \n",
    "    ax.text(2,95, header ,color=\"black\",size=\"14\")"
   ]
  },
  {
   "cell_type": "code",
   "execution_count": null,
   "metadata": {
    "collapsed": true
   },
   "outputs": [],
   "source": []
  },
  {
   "cell_type": "code",
   "execution_count": null,
   "metadata": {
    "collapsed": true
   },
   "outputs": [],
   "source": []
  }
 ],
 "metadata": {
  "kernelspec": {
   "display_name": "Python 3",
   "language": "python",
   "name": "python3"
  },
  "language_info": {
   "codemirror_mode": {
    "name": "ipython",
    "version": 3
   },
   "file_extension": ".py",
   "mimetype": "text/x-python",
   "name": "python",
   "nbconvert_exporter": "python",
   "pygments_lexer": "ipython3",
   "version": "3.6.3"
  }
 },
 "nbformat": 4,
 "nbformat_minor": 2
}
